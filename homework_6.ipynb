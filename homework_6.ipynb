{
  "nbformat": 4,
  "nbformat_minor": 0,
  "metadata": {
    "colab": {
      "provenance": [],
      "authorship_tag": "ABX9TyMINTBBMwzS0L7OMiSzljU0",
      "include_colab_link": true
    },
    "kernelspec": {
      "name": "python3",
      "display_name": "Python 3"
    },
    "language_info": {
      "name": "python"
    }
  },
  "cells": [
    {
      "cell_type": "markdown",
      "metadata": {
        "id": "view-in-github",
        "colab_type": "text"
      },
      "source": [
        "<a href=\"https://colab.research.google.com/github/Zabaluna/Probability-theory-and-statistics/blob/main/%D0%94%D0%B7%D0%A2%D0%B5%D1%80%D0%92%D0%B5%D1%806.ipynb\" target=\"_parent\"><img src=\"https://colab.research.google.com/assets/colab-badge.svg\" alt=\"Open In Colab\"/></a>"
      ]
    },
    {
      "cell_type": "markdown",
      "source": [
        "Урок 6. Сравнение долей. Построение доверительного интервала"
      ],
      "metadata": {
        "id": "oue7OENglshh"
      }
    },
    {
      "cell_type": "code",
      "source": [
        "from math import *\n",
        "from sympy import *\n",
        "from sympy.plotting import plot\n",
        "import numpy as np\n",
        "import pandas as pd\n",
        "from scipy import *\n",
        "from matplotlib import *\n",
        "from matplotlib import pyplot as plt\n",
        "from sklearn import *\n",
        "\n",
        "\n",
        "import scipy.stats as stats"
      ],
      "metadata": {
        "id": "FpkFFJlIr0M9"
      },
      "execution_count": 2,
      "outputs": []
    },
    {
      "cell_type": "markdown",
      "source": [
        "# Задача 1.\n",
        "Известно, что генеральная совокупность распределена нормально со средним квадратическим отклонением, равным 16.\n",
        "Найти доверительный интервал для оценки математического ожидания a с надежностью 0.95, если выборочная средняя M = 80, а объем выборки n = 256.\n",
        "\n",
        "$\\sigma$ = 16\n",
        "\n",
        "$\\alpha$ = 0,05\n",
        "\n",
        "Zкр = 1.96\n",
        "\n",
        "M(x) = 80\n",
        "\n",
        "n = 256\n",
        "\n",
        "M ± z*($\\sigma/\\sqrt{n})$\n",
        "\n",
        "$80 ± (1.96 * 16/\\sqrt{256}$)\n",
        "\n",
        "[78.04; 81.96]"
      ],
      "metadata": {
        "id": "MpoO6FwRmGR5"
      }
    },
    {
      "cell_type": "markdown",
      "source": [
        "# Задача 2.\n",
        "В результате 10 независимых измерений некоторой величины X, выполненных с одинаковой точностью, получены опытные данные:\n",
        "6.9, 6.1, 6.2, 6.8, 7.5, 6.3, 6.4, 6.9, 6.7, 6.1\n",
        "\n",
        "Предполагая, что результаты измерений подчинены нормальному закону распределения вероятностей, оценить истинное значение величины X при помощи доверительного интервала, покрывающего это значение с доверительной вероятностью 0,95.\n",
        "\n",
        "$\\sigma$ = 0.45\n",
        "\n",
        "$\\alpha$ = 0,05\n",
        "\n",
        "n = 10\n",
        "\n",
        "Распределение Стьюдента зависит от степеней свободы (n - 1). Мы строим тот же 95% интервал. Т.е. α/2  = 0.025\n",
        "По таблице ниже берем параметры 0.975 для p и 9 степеней свободы.--->\n",
        "\n",
        "tкр =2.262\n",
        "\n",
        "\n",
        "$\\overline{x}$ ± t*($\\sigma/\\sqrt{n})$\n",
        "\n",
        "$6.59 ± (2.262 * 0.45\\sqrt{10}$) = 6.59 ± 0.32\n",
        "\n",
        "[6.27; 6.91] \n"
      ],
      "metadata": {
        "id": "FighZIRvmRkB"
      }
    },
    {
      "cell_type": "code",
      "source": [
        "x = np.array([6.9, 6.1, 6.2, 6.8, 7.5, 6.3, 6.4, 6.9, 6.7, 6.1])\n",
        "print( f'Среднее арифметическое = {np.mean( x ):.2f}' )\n",
        "print( f'Среднее квадратичное отклонение = {np.std(x,ddof=1):.2f}' )\n",
        "print( f'Несмещенная Дисперсия = {np.var( x, ddof=1 ):.2f}' ) \n",
        "print( f'Стандартное отклонение = {np.var( x, ddof=1 )**0.5:.2f}' ) \n"
      ],
      "metadata": {
        "colab": {
          "base_uri": "https://localhost:8080/"
        },
        "id": "GFPSt7d11wvG",
        "outputId": "f45d791d-3e5b-4f7a-dd50-e6bd1222c8d7"
      },
      "execution_count": 3,
      "outputs": [
        {
          "output_type": "stream",
          "name": "stdout",
          "text": [
            "Среднее арифметическое = 6.59\n",
            "Среднее квадратичное отклонение = 0.45\n",
            "Несмещенная Дисперсия = 0.20\n",
            "Стандартное отклонение = 0.45\n"
          ]
        }
      ]
    },
    {
      "cell_type": "markdown",
      "source": [
        "# Задача 3.\n",
        "Рост дочерей 175, 167, 154, 174, 178, 148, 160, 167, 169, 170\n",
        "\n",
        "Рост матерей  178, 165, 165, 173, 168, 155, 160, 164, 178, 175\n",
        "\n",
        "Используя эти данные построить 95% доверительный интервал для разности среднего роста родителей и детей.\n",
        "\n",
        "$\\alpha$ = 0,05\n",
        "\n",
        "n = 10\n",
        "\n",
        "D=1/2*(D_1+D_2), \n",
        "\n",
        "S_Δ=$\\sqrt{(D/n_1 +D/n_2 )}$,\n",
        "\n",
        "Δ± t_$\\alpha$/2*S_Δ, где Δ= (X_1 )-(X_2 )\n",
        "\n",
        "\n",
        "df = 2*(n-1) \n",
        "\n",
        "D_m= 60.10\n",
        "\n",
        "D_n = 91.07\n",
        "\n",
        "D = 75.58\n",
        "\n",
        "S_Δ=$\\sqrt{(75.58/10 + 75.58/10)}$ = 3.88\n",
        "\n",
        "Δ = 166.20 - 168.10  = - 1.90\n",
        "\n",
        "df = 2 *(10-1) = 18\n",
        "\n",
        "tкр = 2.10\n",
        "\n",
        "-1.90 ± 2.10 * 3.88 = -1.90 ± 8.15\n",
        "\n",
        "[-10.05; 6.25]"
      ],
      "metadata": {
        "id": "96vlTLpomcph"
      }
    },
    {
      "cell_type": "code",
      "source": [
        "mums = np.array([178, 165, 165, 173, 168, 155, 160, 164, 178, 175])\n",
        "girls = np.array([175, 167, 154, 174, 178, 148, 160, 167, 169, 170])\n",
        "print( f'Среднее арифметическое = {np.mean(mums):.2f}' )\n",
        "print( f'Среднее арифметическое = {np.mean(girls):.2f}' )\n",
        "print( f'Среднее квадратичное отклонение мам = {np.std(mums,ddof=1):.2f}' )\n",
        "print( f'Среднее квадратичное отклонение дочерей = {np.std(girls,ddof=1):.2f}' )\n",
        "print( f'Несмещенная Дисперсия мам D_m= {np.var(mums, ddof=1):.2f}' ) \n",
        "print( f'Несмещенная Дисперсия дочерей D_n= {np.var(girls, ddof=1):.2f}' ) \n",
        "print( f'Дисперсия обеих групп D = { 1/2* (60.10 + 91.07):.2f}' ) \n",
        "print( f'Расчет tкр = {stats.t.ppf(0.975,18):.2f}')"
      ],
      "metadata": {
        "colab": {
          "base_uri": "https://localhost:8080/"
        },
        "id": "lYs3LBXUrvWO",
        "outputId": "047ef4c2-4f5f-479e-921c-2fe005fab45d"
      },
      "execution_count": 16,
      "outputs": [
        {
          "output_type": "stream",
          "name": "stdout",
          "text": [
            "Среднее арифметическое = 168.10\n",
            "Среднее арифметическое = 166.20\n",
            "Среднее квадратичное отклонение мам = 7.75\n",
            "Среднее квадратичное отклонение дочерей = 9.54\n",
            "Несмещенная Дисперсия мам D_m= 60.10\n",
            "Несмещенная Дисперсия дочерей D_n= 91.07\n",
            "Дисперсия обеих групп D = 75.58\n",
            "Расчет tкр = 2.10\n"
          ]
        }
      ]
    }
  ]
}
