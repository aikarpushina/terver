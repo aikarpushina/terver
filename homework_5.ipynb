{
  "nbformat": 4,
  "nbformat_minor": 0,
  "metadata": {
    "colab": {
      "provenance": [],
      "authorship_tag": "ABX9TyMB4jkK528SJ/LvJq9rkAIm",
      "include_colab_link": true
    },
    "kernelspec": {
      "name": "python3",
      "display_name": "Python 3"
    },
    "language_info": {
      "name": "python"
    }
  },
  "cells": [
    {
      "cell_type": "markdown",
      "metadata": {
        "id": "view-in-github",
        "colab_type": "text"
      },
      "source": [
        "<a href=\"https://colab.research.google.com/github/Zabaluna/Probability-theory-and-statistics/blob/main/%D0%94%D0%B7%D0%A2%D0%B5%D1%80%D0%92%D0%B5%D1%805.ipynb\" target=\"_parent\"><img src=\"https://colab.research.google.com/assets/colab-badge.svg\" alt=\"Open In Colab\"/></a>"
      ]
    },
    {
      "cell_type": "markdown",
      "source": [
        "Урок 5. Тестирование гипотез\n"
      ],
      "metadata": {
        "id": "UOFBzYFyWuf3"
      }
    },
    {
      "cell_type": "code",
      "source": [
        "from math import *\n",
        "from sympy import *\n",
        "from sympy.plotting import plot\n",
        "import numpy as np\n",
        "import pandas as pd\n",
        "from scipy import *\n",
        "from matplotlib import *\n",
        "from matplotlib import pyplot as plt\n",
        "from sklearn import *\n",
        "\n",
        "\n",
        "import scipy.stats as stats"
      ],
      "metadata": {
        "id": "Tf0EZcMRXbt4"
      },
      "execution_count": 2,
      "outputs": []
    },
    {
      "cell_type": "markdown",
      "source": [
        "# Задача 1.\n",
        " Когда используется критерий Стьюдента, а когда Z –критерий?"
      ],
      "metadata": {
        "id": "_wUysmaEW7YY"
      }
    },
    {
      "cell_type": "markdown",
      "source": [
        "# ОТВЕТ:\n",
        "Критерии делятся на параметрические и непараметрические. Параметрические критерии – это Z, t ( критерий Стьюдента) для сравнения двух выборок. Они предполагают, что выборка взята из нормально распределенной генеральной совокупности, более того предполагают равенство дисперсий в группах. \n",
        "\n",
        " Z - если известна  $\\sigma$   генеральной совокупности и соблюдается нормальность\n",
        "\n",
        "t - если  $\\sigma$  генеральной совокупности неизвестна, так же соблюдается нормальность и есть равенство дисперсий.\n",
        "\n",
        "Стоит уточнить, что при больших размераха выборок результат z-теста и t-теста дают схожие значения p-value"
      ],
      "metadata": {
        "id": "pJCE-geDXxs1"
      }
    },
    {
      "cell_type": "markdown",
      "source": [
        "Задачи 2,3 решать вручную\n",
        "# Задача 2.\n",
        " Проведите тест гипотезы. Утверждается, что шарики для подшипников, изготовленные\n",
        "автоматическим станком, имеют средний диаметр 17 мм.\n",
        "Используя односторонний критерий с α=0,05, проверить эту гипотезу, если в выборке из\n",
        "n=100 шариков средний диаметр\n",
        "оказался равным 17.5 мм, а дисперсия известна и равна 4 кв. мм."
      ],
      "metadata": {
        "id": "kO7J4suSW-yN"
      }
    },
    {
      "cell_type": "markdown",
      "source": [
        "d = 17\n",
        "$\\alpha$ = 0,05\n",
        "n = 100\n",
        "d = 17,5\n",
        "D = 4\n",
        "\n",
        "\n",
        "H0:  $\\mu$ = 17\n",
        "\n",
        "H1:  $\\mu$ > 17\n",
        "\n",
        "$\\alpha$ = 0,05\n",
        "\n",
        "\n",
        "$Z = \\frac{\\overline{x} - \\mu}{\\sigma/\\sqrt{n}}$ \n",
        "\n",
        "$ \\frac{17.5 - 17}{2/\\sqrt{100}}$= 2.5\n",
        "\n",
        "Zкритич = по таблице = 1.64\n",
        "\n",
        "Zрасчетное > Zтабличного\n",
        "\n",
        "---> Гипотеза H0 не подтвердилась\n"
      ],
      "metadata": {
        "id": "2HyQ3QHQSCW8"
      }
    },
    {
      "cell_type": "code",
      "source": [
        "alpha = 0.05\n",
        "n = 100\n",
        "t = stats.norm.ppf(1 - alpha)\n",
        "print(t)"
      ],
      "metadata": {
        "colab": {
          "base_uri": "https://localhost:8080/"
        },
        "id": "nZNhOFWLXpaz",
        "outputId": "a78c8722-b427-4550-b92e-b47eb203c391"
      },
      "execution_count": 3,
      "outputs": [
        {
          "output_type": "stream",
          "name": "stdout",
          "text": [
            "1.6448536269514722\n"
          ]
        }
      ]
    },
    {
      "cell_type": "markdown",
      "source": [
        "# Задача 3. \n",
        "Проведите тест гипотезы. Продавец утверждает, что средний вес пачки печенья\n",
        "составляет 200 г.\n",
        "Из партии извлечена выборка из 10 пачек. Вес каждой пачки составляет:\n",
        "202, 203, 199, 197, 195, 201, 200, 204, 194, 190.\n",
        "Известно, что их веса распределены нормально.\n",
        "Верно ли утверждение продавца, если учитывать, что доверительная вероятность равна\n",
        "99%? (Провести двусторонний тест.)"
      ],
      "metadata": {
        "id": "JPhxg6KzW_gX"
      }
    },
    {
      "cell_type": "markdown",
      "source": [
        "H0: $\\mu$ = 200\n",
        "\n",
        "Н1: ${\\mu}\\neq200\\$\n",
        "\n",
        "$\\alpha$ = 0,01   (100%-99%)\n",
        "\n",
        "Р = 200\n",
        "\n",
        "n = 10\n",
        "\n",
        "$P_c =  \\frac{202+203+199+197+195+201+200+204+194+190}{10} = 198.50$\n",
        "\n",
        "$t_n = \\frac{\\overline{x} - \\mu}{\\sigma_n/\\sqrt{n}}$ \n",
        "\n",
        "D = 19.83\n",
        "\n",
        "$\\sigma$ = $\\sqrt{19.83}$ = 4.45\n",
        "\n",
        "$t_n = \\frac{198.5 - 200}{4.45/\\sqrt{10}}$= - 1.07\n",
        "\n",
        "tкритич = -3.25 и 3.25\n",
        "\n",
        "tрасчетное < tтабличного\n",
        "\n",
        "---> Гипотеза H0 подтвердилась\n",
        "\n"
      ],
      "metadata": {
        "id": "xRATBgZsR6zX"
      }
    },
    {
      "cell_type": "code",
      "execution_count": 4,
      "metadata": {
        "colab": {
          "base_uri": "https://localhost:8080/"
        },
        "id": "L36CntsRWlo_",
        "outputId": "fc9c92e5-a3a4-447b-d3e8-0cbdd5a16b27"
      },
      "outputs": [
        {
          "output_type": "stream",
          "name": "stdout",
          "text": [
            "Среднее арифметическое = 198.50\n",
            "Среднее квадратичное отклонение = 4.22\n",
            "Несмещенная Дисперсия = 19.83\n",
            "Коэффициент t_find = -1.07\n",
            "Коэффициент t1 = -3.25\n",
            "Коэффициент t2 = 3.25\n"
          ]
        }
      ],
      "source": [
        "x = np.array([202, 203, 199, 197, 195, 201, 200, 204, 194, 190])\n",
        "print( f'Среднее арифметическое = {np.mean( x ):.2f}' )\n",
        "print( f'Среднее квадратичное отклонение = {np.std( x ):.2f}' )          \n",
        "print( f'Несмещенная Дисперсия = {np.var( x, ddof=1 ):.2f}' ) \n",
        "print( f'Коэффициент t_find = {(np.mean( x ) - 200) / (np.var( x, ddof=1 )**0.5 / (10 ** 0.5)):.2f}')\n",
        "\n",
        "alpha = 0.01\n",
        "n = 10\n",
        "\n",
        "print( f'Коэффициент t1 = {stats.t.ppf(alpha / 2, df=(n - 1)):.2f}' )\n",
        "print( f'Коэффициент t2 = {stats.t.ppf(1 - alpha / 2, df=(n - 1)):.2f}' )"
      ]
    },
    {
      "cell_type": "markdown",
      "source": [
        "Задачу 4 решать с помощью функции.\n",
        "# Задача 4. \n",
        "Есть ли статистически значимые различия в росте\n",
        "дочерей?\n",
        "Рост матерей 172, 177, 158, 170, 178,175, 164, 160, 169, 165\n",
        "Рост взрослых дочерей: 173, 175, 162, 174, 175, 168, 155, 170, 160, 163\n",
        "\n"
      ],
      "metadata": {
        "id": "z34damyAXNJq"
      }
    },
    {
      "cell_type": "markdown",
      "source": [
        "H0: $\\mu_m$ = $\\mu_n$\n",
        "\n",
        "Н1: ${\\mu_m}\\neq\\mu_n\\$\n",
        "\n",
        "$\\alpha$ = 0,05\n",
        "\n",
        "$t_n = \\frac{\\overline{x_1} - \\overline{x_2}}{\\sqrt({S_1^2/n_1}+{S_2^2/n_2})}$ \n",
        "\n",
        "p-value =0.68\n",
        "\n",
        "p-value  > $\\alpha$   --->   H0: $\\mu_m$ = $\\mu_n$ не отвергаем   --->   Статистических различий в росте дочерей нет"
      ],
      "metadata": {
        "id": "Snx2rZgxPbri"
      }
    },
    {
      "cell_type": "code",
      "source": [
        "mums = np.array([172, 177, 158, 170, 178,175, 164, 160, 169, 165])\n",
        "girls = np.array([173, 175, 162, 174, 175, 168, 155, 170, 160, 163])\n",
        "print( f'Среднее арифметическое = {np.mean( mums ):.2f}' )\n",
        "print( f'Среднее арифметическое = {np.mean( girls ):.2f}' )\n",
        "print( f'Среднее квадратичное отклонение мам = {np.std(mums,ddof=1):.2f}' )\n",
        "print( f'Среднее квадратичное отклонение мам = {np.std(girls,ddof=1):.2f}' )\n",
        "print( f'Наблюдаемый критерий= {(np.mean( mums )-np.mean( girls ))/(pow(np.std(mums,ddof=1)*np.std(mums,ddof=1)/len(mums)+np.std(girls,ddof=1)*np.std(girls,ddof=1)/len(girls), 0.5)):.2f}' )\n",
        "p_value = stats.ttest_ind(mums, girls)\n",
        "print( f'p-value наблюдаемый критерий = {p_value}' )\n"
      ],
      "metadata": {
        "colab": {
          "base_uri": "https://localhost:8080/"
        },
        "id": "WbLnkU2DXq_a",
        "outputId": "2cba4f3c-a5ac-4f65-9119-1b9b40b33e31"
      },
      "execution_count": 22,
      "outputs": [
        {
          "output_type": "stream",
          "name": "stdout",
          "text": [
            "Среднее арифметическое = 168.80\n",
            "Среднее арифметическое = 167.50\n",
            "Среднее квадратичное отклонение мам = 6.94\n",
            "Среднее квадратичное отклонение мам = 7.11\n",
            "Наблюдаемый критерий= 0.41\n",
            "p-value наблюдаемый критерий = Ttest_indResult(statistic=0.4138411497680053, pvalue=0.68387966499013)\n"
          ]
        }
      ]
    }
  ]
}
