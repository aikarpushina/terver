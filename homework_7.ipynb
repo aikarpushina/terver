{
  "nbformat": 4,
  "nbformat_minor": 0,
  "metadata": {
    "colab": {
      "provenance": [],
      "authorship_tag": "ABX9TyNhb0wbEnfX/BK4Wo1m8KMV",
      "include_colab_link": true
    },
    "kernelspec": {
      "name": "python3",
      "display_name": "Python 3"
    },
    "language_info": {
      "name": "python"
    }
  },
  "cells": [
    {
      "cell_type": "markdown",
      "metadata": {
        "id": "view-in-github",
        "colab_type": "text"
      },
      "source": [
        "<a href=\"https://colab.research.google.com/github/Zabaluna/Probability-theory-and-statistics/blob/main/%D0%94%D0%B7%D0%A2%D0%B5%D1%80%D0%92%D0%B5%D1%807.ipynb\" target=\"_parent\"><img src=\"https://colab.research.google.com/assets/colab-badge.svg\" alt=\"Open In Colab\"/></a>"
      ]
    },
    {
      "cell_type": "code",
      "source": [
        "from math import *\n",
        "from sympy import *\n",
        "from sympy.plotting import plot\n",
        "import numpy as np\n",
        "import pandas as pd\n",
        "from scipy import *\n",
        "from matplotlib import *\n",
        "from matplotlib import pyplot as plt\n",
        "from sklearn import *\n",
        "\n",
        "\n",
        "import scipy.stats as stats"
      ],
      "metadata": {
        "id": "cltRI_iqn8eW"
      },
      "execution_count": 1,
      "outputs": []
    },
    {
      "cell_type": "markdown",
      "source": [],
      "metadata": {
        "id": "isxL5OWJql2E"
      }
    },
    {
      "cell_type": "markdown",
      "source": [
        "# Урок 7. Непараметрические тесты\n",
        "1-4 задачи решать с помощью функций, 5ю вручную\n",
        "\n",
        "Выбрать тест и проверить, есть  ли различия между выборками:\n",
        "\n",
        "1 )  Даны две  независимые выборки. Не соблюдается условие нормальности\n",
        "\n",
        "x1  380,420, 290\n",
        "\n",
        "y1 140,360,200,900\n",
        "\n",
        "Сделайте вывод по результатам, полученным с помощью функции\n",
        "\n"
      ],
      "metadata": {
        "id": "xg8CQ0ppqfcN"
      }
    },
    {
      "cell_type": "markdown",
      "source": [
        " Независимая выборка, нет условий нормальности,  2х групп --->  тест Манна-Уитни\n",
        "\n",
        " $\\alpha$ = 0,05\n",
        "\n",
        " H0: $\\mu_x$ = $\\mu_y$\n",
        "\n",
        "Н1: ${\\mu_x}\\neq\\mu_y\\$\n",
        "\n",
        " $\\alpha$ < pvalue  ---> Различий нет H0 подтвердилась\n",
        "\n",
        "\n"
      ],
      "metadata": {
        "id": "-MEh6PDPnVwP"
      }
    },
    {
      "cell_type": "code",
      "source": [
        "x = np.array([380,420, 290])\n",
        "y = np.array([140,360,200,900])\n",
        "\n",
        "stats.mannwhitneyu(x,y)"
      ],
      "metadata": {
        "colab": {
          "base_uri": "https://localhost:8080/"
        },
        "id": "sVBX-DH8oqLW",
        "outputId": "f49f8ed9-3882-4e91-9754-4251da17dbec"
      },
      "execution_count": 2,
      "outputs": [
        {
          "output_type": "execute_result",
          "data": {
            "text/plain": [
              "MannwhitneyuResult(statistic=8.0, pvalue=0.6285714285714286)"
            ]
          },
          "metadata": {},
          "execution_count": 2
        }
      ]
    },
    {
      "cell_type": "markdown",
      "source": [
        "2 ) Исследовалось влияние препарата на уровень давления пациентов. Сначала измерялось давление до приема препарата, потом через 10 минут и через 30 минут. Есть ли статистически значимые различия?\n",
        "\n",
        "1е измерение до приема препарата: 150, 160, 165, 145, 155\n",
        "\n",
        "2е измерение через 10 минут: 140, 155, 150,  130, 135\n",
        "\n",
        "3е измерение через 30 минут: 130, 130, 120, 130, 125\n",
        "\n"
      ],
      "metadata": {
        "id": "jd6HzbwDqlqs"
      }
    },
    {
      "cell_type": "markdown",
      "source": [
        "Зависимые выборки, анализ потворных измерений, групп больше 2х ---> Критерий Фридмана\n",
        "\n",
        " $\\alpha$ = 0,05\n",
        "\n",
        "▁R=(n*(k+1))/2,где n-объем выборки,k-число сравниваемых групп\n",
        "\n",
        "χ_r^2=12/(n*k*(k+1))*∑ 〖〖(R〗_i-▁R)〗^2, где R_i – сумма рангов по подгруппам\n",
        "\n",
        "\n",
        "H0: $\\mu_x$ = $\\mu_y$ = $\\mu_z$\n",
        "\n",
        "Н1: ${\\mu_x}\\neq\\mu_y\\neq\\mu_z\\$\n",
        "\n",
        " $\\alpha$ > pvalue  ---> Различия есть H0 не подтвердилась\n",
        "\n"
      ],
      "metadata": {
        "id": "yJ7ISw1ZrfNX"
      }
    },
    {
      "cell_type": "code",
      "source": [
        "x = np.array([150, 160, 165, 145, 155])\n",
        "y = np.array([140, 155, 150, 130, 135])  \n",
        "z = np.array([130, 130, 120, 130, 125])     \n",
        "\n",
        "stats.friedmanchisquare(x,y,z)"
      ],
      "metadata": {
        "colab": {
          "base_uri": "https://localhost:8080/"
        },
        "id": "h_wnKLzSs5Rt",
        "outputId": "87a48713-8831-4200-9010-dc7e9c900ad6"
      },
      "execution_count": 3,
      "outputs": [
        {
          "output_type": "execute_result",
          "data": {
            "text/plain": [
              "FriedmanchisquareResult(statistic=9.578947368421062, pvalue=0.00831683351100441)"
            ]
          },
          "metadata": {},
          "execution_count": 3
        }
      ]
    },
    {
      "cell_type": "markdown",
      "source": [
        "3 ) Сравните 1 и 2 е измерения, предполагая, что 3го измерения через 30 минут не было.\n",
        "\n",
        "1е измерение до приема препарата: 150, 160, 165, 145, 155\n",
        "\n",
        "2е измерение через 10 минут: 140, 155, 150, 130, 135"
      ],
      "metadata": {
        "id": "CYr4Ywy5rBVd"
      }
    },
    {
      "cell_type": "markdown",
      "source": [
        "\n",
        " Зависимые выборки, 2 значения ---> тест Уилкоксона\n",
        "\n",
        "$\\alpha$ = 0,05\n",
        "\n",
        "H0: $\\mu_x$ = $\\mu_y$\n",
        "\n",
        "Н1: ${\\mu_x}\\neq\\mu_y\\$\n",
        "\n",
        "\n",
        " $\\alpha$ < pvalue  ---> Различий нет H0 подтвердилась"
      ],
      "metadata": {
        "id": "VX-P0IjIt5B9"
      }
    },
    {
      "cell_type": "code",
      "source": [
        "x = np.array([150, 160, 165, 145, 155])\n",
        "y = np.array([140, 155, 150, 130, 135])  \n",
        "\n",
        "stats.wilcoxon(x,y)"
      ],
      "metadata": {
        "colab": {
          "base_uri": "https://localhost:8080/"
        },
        "id": "n-TQbTlzuT-u",
        "outputId": "f4ba6641-5ed2-46d6-a647-73ce98af9faa"
      },
      "execution_count": 4,
      "outputs": [
        {
          "output_type": "execute_result",
          "data": {
            "text/plain": [
              "WilcoxonResult(statistic=0.0, pvalue=0.0625)"
            ]
          },
          "metadata": {},
          "execution_count": 4
        }
      ]
    },
    {
      "cell_type": "markdown",
      "source": [
        "\n",
        "4) Даны 3 группы  учеников плавания.\n",
        "\n",
        "В 1 группе время на дистанцию 50 м составляют:\n",
        "\n",
        "56, 60, 62, 55, 71, 67, 59, 58, 64, 67\n",
        "\n",
        "Вторая группа : 57, 58, 69, 48, 72, 70, 68, 71, 50, 53\n",
        "\n",
        "Третья группа: 57, 67, 49, 48, 47, 55, 66, 51, 54\n",
        "\n"
      ],
      "metadata": {
        "id": "FwjPSFewqqx9"
      }
    },
    {
      "cell_type": "markdown",
      "source": [
        "Независимые выборки, больше 2х значениий ---> тест Крускала - Уоллиса\n",
        "\n",
        " $\\alpha$ = 0,05\n",
        "\n",
        " H=  12/(N*(N+1) )*∑_(i=1)^(k_j)  〖T_j〗^2/n_j -3(N+1), \n",
        "где N – общее число  измерений во всех сравниваемых выборках,\n",
        "k_j- объем j-ой выборки \n",
        "T_j- сумма рангов в каждой выборке.\n",
        "\n",
        "\n",
        "H0: $\\mu_x$ = $\\mu_y$ = $\\mu_z$\n",
        "\n",
        "Н1: ${\\mu_x}\\neq\\mu_y\\neq\\mu_z\\$\n",
        "\n",
        " $\\alpha$ < pvalue  ---> Различий нет H0 подтвердилась\n",
        "\n"
      ],
      "metadata": {
        "id": "AOJjd5ukvA_l"
      }
    },
    {
      "cell_type": "code",
      "source": [
        "x = np.array([56, 60, 62, 55, 71, 67, 59, 58, 64, 67])\n",
        "y= np.array([57, 58, 69, 48, 72, 70, 68, 71, 50, 53])\n",
        "z = np.array([57, 67, 49, 48, 47, 55, 66, 51, 54])\n",
        "\n",
        "stats.kruskal(x,y,z)"
      ],
      "metadata": {
        "colab": {
          "base_uri": "https://localhost:8080/"
        },
        "id": "NQu2XD75vce0",
        "outputId": "42923552-bf63-48e6-c591-78af15fd46ff"
      },
      "execution_count": 5,
      "outputs": [
        {
          "output_type": "execute_result",
          "data": {
            "text/plain": [
              "KruskalResult(statistic=5.465564058257224, pvalue=0.0650380998590494)"
            ]
          },
          "metadata": {},
          "execution_count": 5
        }
      ]
    },
    {
      "cell_type": "markdown",
      "source": [
        "5) Заявляется, что партия изготавливается со средним арифметическим 2,5 см. Проверить данную гипотезу, если известно, что размеры изделий подчинены нормальному закону распределения. Объем выборки 10, уровень статистической значимости 5%\n",
        "\n",
        "2.51, 2.35, 2.74, 2.56, 2.40, 2.36, 2.65, 2.7, 2.67, 2.34\n",
        "\n",
        "$\\alpha$ = 0,05\n",
        "\n",
        "n = 10\n",
        "\n",
        "M = 2,5\n",
        "\n",
        "$М_c =  \\frac{2.51+ 2.35+ 2.74+ 2.56+ 2.40+ 2.36+ 2.65+ 2.7+ 2.67+ 2.34}{10} = 2.5280$\n",
        "\n",
        "\n",
        "H0: $\\mu$ = $\\mu$\n",
        "\n",
        "Н1: ${\\mu}\\neq\\mu\\$\n",
        "\n",
        "Распределение Стьюдента зависит от степеней свободы (n - 1). Мы строим тот же 95% интервал. Т.е. α/2  = 0.025\n",
        "По таблице ниже берем параметры 0.975 для p и 9 степеней свободы.--->\n",
        "\n",
        "tкр =2.262\n",
        "\n",
        "$t_n = \\frac{\\overline{x} - \\mu}{\\sigma_n/\\sqrt{n}}$ \n",
        "\n",
        "$t_n = \\frac{2.5280 - 2.5}{0.1573/\\sqrt{10}}$= 0.028/0.0497 = 0.5634\n",
        "\n",
        "tрасчетное < tтабличного\n",
        "\n",
        "---> Гипотеза H0 подтвердилась\n",
        "\n",
        "\n",
        "\n",
        "\n",
        "\n"
      ],
      "metadata": {
        "id": "2Vd5ARqzq2_F"
      }
    },
    {
      "cell_type": "code",
      "source": [
        "x = np.array([2.51, 2.35, 2.74, 2.56, 2.40, 2.36, 2.65, 2.7, 2.67, 2.34])\n",
        "print( f'Среднее арифметическое = {np.mean( x ):.4f}' )\n",
        "print( f'Среднее квадратичное отклонение = {np.std(x,ddof=1):.4f}' )\n",
        "print( f'Несмещенная Дисперсия = {np.var( x, ddof=1 ):.4f}' )"
      ],
      "metadata": {
        "colab": {
          "base_uri": "https://localhost:8080/"
        },
        "id": "sTvaUmQdwuqF",
        "outputId": "ca2c7d66-a5bb-49c4-d9fb-814fc4726533"
      },
      "execution_count": 8,
      "outputs": [
        {
          "output_type": "stream",
          "name": "stdout",
          "text": [
            "Среднее арифметическое = 2.5280\n",
            "Среднее квадратичное отклонение = 0.1573\n",
            "Несмещенная Дисперсия = 0.0247\n"
          ]
        }
      ]
    }
  ]
}
